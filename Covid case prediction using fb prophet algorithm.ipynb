{
  "cells": [
    {
      "cell_type": "code",
      "execution_count": 1,
      "id": "f96f1e9d",
      "metadata": {
        "id": "f96f1e9d"
      },
      "outputs": [],
      "source": [
        "import numpy as np\n",
        "import pandas as pd\n",
        "import seaborn as sns\n",
        "import matplotlib.pyplot as plt\n",
        "\n"
      ]
    },
    {
      "cell_type": "code",
      "source": [
        "pip install prophet"
      ],
      "metadata": {
        "colab": {
          "base_uri": "https://localhost:8080/"
        },
        "id": "rjZJIQACB1FU",
        "outputId": "e4d0274d-1268-443b-c9d8-4fe6cb012709"
      },
      "id": "rjZJIQACB1FU",
      "execution_count": 2,
      "outputs": [
        {
          "output_type": "stream",
          "name": "stdout",
          "text": [
            "Requirement already satisfied: prophet in /usr/local/lib/python3.10/dist-packages (1.1.4)\n",
            "Requirement already satisfied: cmdstanpy>=1.0.4 in /usr/local/lib/python3.10/dist-packages (from prophet) (1.1.0)\n",
            "Requirement already satisfied: numpy>=1.15.4 in /usr/local/lib/python3.10/dist-packages (from prophet) (1.23.5)\n",
            "Requirement already satisfied: matplotlib>=2.0.0 in /usr/local/lib/python3.10/dist-packages (from prophet) (3.7.1)\n",
            "Requirement already satisfied: pandas>=1.0.4 in /usr/local/lib/python3.10/dist-packages (from prophet) (1.5.3)\n",
            "Requirement already satisfied: LunarCalendar>=0.0.9 in /usr/local/lib/python3.10/dist-packages (from prophet) (0.0.9)\n",
            "Requirement already satisfied: convertdate>=2.1.2 in /usr/local/lib/python3.10/dist-packages (from prophet) (2.4.0)\n",
            "Requirement already satisfied: holidays>=0.25 in /usr/local/lib/python3.10/dist-packages (from prophet) (0.30)\n",
            "Requirement already satisfied: python-dateutil>=2.8.0 in /usr/local/lib/python3.10/dist-packages (from prophet) (2.8.2)\n",
            "Requirement already satisfied: tqdm>=4.36.1 in /usr/local/lib/python3.10/dist-packages (from prophet) (4.66.0)\n",
            "Requirement already satisfied: importlib-resources in /usr/local/lib/python3.10/dist-packages (from prophet) (6.0.1)\n",
            "Requirement already satisfied: pymeeus<=1,>=0.3.13 in /usr/local/lib/python3.10/dist-packages (from convertdate>=2.1.2->prophet) (0.5.12)\n",
            "Requirement already satisfied: ephem>=3.7.5.3 in /usr/local/lib/python3.10/dist-packages (from LunarCalendar>=0.0.9->prophet) (4.1.4)\n",
            "Requirement already satisfied: pytz in /usr/local/lib/python3.10/dist-packages (from LunarCalendar>=0.0.9->prophet) (2023.3)\n",
            "Requirement already satisfied: contourpy>=1.0.1 in /usr/local/lib/python3.10/dist-packages (from matplotlib>=2.0.0->prophet) (1.1.0)\n",
            "Requirement already satisfied: cycler>=0.10 in /usr/local/lib/python3.10/dist-packages (from matplotlib>=2.0.0->prophet) (0.11.0)\n",
            "Requirement already satisfied: fonttools>=4.22.0 in /usr/local/lib/python3.10/dist-packages (from matplotlib>=2.0.0->prophet) (4.42.0)\n",
            "Requirement already satisfied: kiwisolver>=1.0.1 in /usr/local/lib/python3.10/dist-packages (from matplotlib>=2.0.0->prophet) (1.4.4)\n",
            "Requirement already satisfied: packaging>=20.0 in /usr/local/lib/python3.10/dist-packages (from matplotlib>=2.0.0->prophet) (23.1)\n",
            "Requirement already satisfied: pillow>=6.2.0 in /usr/local/lib/python3.10/dist-packages (from matplotlib>=2.0.0->prophet) (9.4.0)\n",
            "Requirement already satisfied: pyparsing>=2.3.1 in /usr/local/lib/python3.10/dist-packages (from matplotlib>=2.0.0->prophet) (3.1.1)\n",
            "Requirement already satisfied: six>=1.5 in /usr/local/lib/python3.10/dist-packages (from python-dateutil>=2.8.0->prophet) (1.16.0)\n"
          ]
        }
      ]
    },
    {
      "cell_type": "code",
      "execution_count": 3,
      "id": "ca4f2ad7",
      "metadata": {
        "id": "ca4f2ad7",
        "colab": {
          "base_uri": "https://localhost:8080/",
          "height": 321
        },
        "outputId": "a6e54b44-714d-44ac-d60c-fb618ea87597"
      },
      "outputs": [
        {
          "output_type": "error",
          "ename": "FileNotFoundError",
          "evalue": "ignored",
          "traceback": [
            "\u001b[0;31m---------------------------------------------------------------------------\u001b[0m",
            "\u001b[0;31mFileNotFoundError\u001b[0m                         Traceback (most recent call last)",
            "\u001b[0;32m<ipython-input-3-d42a5778378e>\u001b[0m in \u001b[0;36m<cell line: 1>\u001b[0;34m()\u001b[0m\n\u001b[0;32m----> 1\u001b[0;31m \u001b[0mdf\u001b[0m\u001b[0;34m=\u001b[0m\u001b[0mpd\u001b[0m\u001b[0;34m.\u001b[0m\u001b[0mread_csv\u001b[0m\u001b[0;34m(\u001b[0m\u001b[0;34m'covid.csv'\u001b[0m\u001b[0;34m)\u001b[0m\u001b[0;34m\u001b[0m\u001b[0;34m\u001b[0m\u001b[0m\n\u001b[0m",
            "\u001b[0;32m/usr/local/lib/python3.10/dist-packages/pandas/util/_decorators.py\u001b[0m in \u001b[0;36mwrapper\u001b[0;34m(*args, **kwargs)\u001b[0m\n\u001b[1;32m    209\u001b[0m                 \u001b[0;32melse\u001b[0m\u001b[0;34m:\u001b[0m\u001b[0;34m\u001b[0m\u001b[0;34m\u001b[0m\u001b[0m\n\u001b[1;32m    210\u001b[0m                     \u001b[0mkwargs\u001b[0m\u001b[0;34m[\u001b[0m\u001b[0mnew_arg_name\u001b[0m\u001b[0;34m]\u001b[0m \u001b[0;34m=\u001b[0m \u001b[0mnew_arg_value\u001b[0m\u001b[0;34m\u001b[0m\u001b[0;34m\u001b[0m\u001b[0m\n\u001b[0;32m--> 211\u001b[0;31m             \u001b[0;32mreturn\u001b[0m \u001b[0mfunc\u001b[0m\u001b[0;34m(\u001b[0m\u001b[0;34m*\u001b[0m\u001b[0margs\u001b[0m\u001b[0;34m,\u001b[0m \u001b[0;34m**\u001b[0m\u001b[0mkwargs\u001b[0m\u001b[0;34m)\u001b[0m\u001b[0;34m\u001b[0m\u001b[0;34m\u001b[0m\u001b[0m\n\u001b[0m\u001b[1;32m    212\u001b[0m \u001b[0;34m\u001b[0m\u001b[0m\n\u001b[1;32m    213\u001b[0m         \u001b[0;32mreturn\u001b[0m \u001b[0mcast\u001b[0m\u001b[0;34m(\u001b[0m\u001b[0mF\u001b[0m\u001b[0;34m,\u001b[0m \u001b[0mwrapper\u001b[0m\u001b[0;34m)\u001b[0m\u001b[0;34m\u001b[0m\u001b[0;34m\u001b[0m\u001b[0m\n",
            "\u001b[0;32m/usr/local/lib/python3.10/dist-packages/pandas/util/_decorators.py\u001b[0m in \u001b[0;36mwrapper\u001b[0;34m(*args, **kwargs)\u001b[0m\n\u001b[1;32m    329\u001b[0m                     \u001b[0mstacklevel\u001b[0m\u001b[0;34m=\u001b[0m\u001b[0mfind_stack_level\u001b[0m\u001b[0;34m(\u001b[0m\u001b[0;34m)\u001b[0m\u001b[0;34m,\u001b[0m\u001b[0;34m\u001b[0m\u001b[0;34m\u001b[0m\u001b[0m\n\u001b[1;32m    330\u001b[0m                 )\n\u001b[0;32m--> 331\u001b[0;31m             \u001b[0;32mreturn\u001b[0m \u001b[0mfunc\u001b[0m\u001b[0;34m(\u001b[0m\u001b[0;34m*\u001b[0m\u001b[0margs\u001b[0m\u001b[0;34m,\u001b[0m \u001b[0;34m**\u001b[0m\u001b[0mkwargs\u001b[0m\u001b[0;34m)\u001b[0m\u001b[0;34m\u001b[0m\u001b[0;34m\u001b[0m\u001b[0m\n\u001b[0m\u001b[1;32m    332\u001b[0m \u001b[0;34m\u001b[0m\u001b[0m\n\u001b[1;32m    333\u001b[0m         \u001b[0;31m# error: \"Callable[[VarArg(Any), KwArg(Any)], Any]\" has no\u001b[0m\u001b[0;34m\u001b[0m\u001b[0;34m\u001b[0m\u001b[0m\n",
            "\u001b[0;32m/usr/local/lib/python3.10/dist-packages/pandas/io/parsers/readers.py\u001b[0m in \u001b[0;36mread_csv\u001b[0;34m(filepath_or_buffer, sep, delimiter, header, names, index_col, usecols, squeeze, prefix, mangle_dupe_cols, dtype, engine, converters, true_values, false_values, skipinitialspace, skiprows, skipfooter, nrows, na_values, keep_default_na, na_filter, verbose, skip_blank_lines, parse_dates, infer_datetime_format, keep_date_col, date_parser, dayfirst, cache_dates, iterator, chunksize, compression, thousands, decimal, lineterminator, quotechar, quoting, doublequote, escapechar, comment, encoding, encoding_errors, dialect, error_bad_lines, warn_bad_lines, on_bad_lines, delim_whitespace, low_memory, memory_map, float_precision, storage_options)\u001b[0m\n\u001b[1;32m    948\u001b[0m     \u001b[0mkwds\u001b[0m\u001b[0;34m.\u001b[0m\u001b[0mupdate\u001b[0m\u001b[0;34m(\u001b[0m\u001b[0mkwds_defaults\u001b[0m\u001b[0;34m)\u001b[0m\u001b[0;34m\u001b[0m\u001b[0;34m\u001b[0m\u001b[0m\n\u001b[1;32m    949\u001b[0m \u001b[0;34m\u001b[0m\u001b[0m\n\u001b[0;32m--> 950\u001b[0;31m     \u001b[0;32mreturn\u001b[0m \u001b[0m_read\u001b[0m\u001b[0;34m(\u001b[0m\u001b[0mfilepath_or_buffer\u001b[0m\u001b[0;34m,\u001b[0m \u001b[0mkwds\u001b[0m\u001b[0;34m)\u001b[0m\u001b[0;34m\u001b[0m\u001b[0;34m\u001b[0m\u001b[0m\n\u001b[0m\u001b[1;32m    951\u001b[0m \u001b[0;34m\u001b[0m\u001b[0m\n\u001b[1;32m    952\u001b[0m \u001b[0;34m\u001b[0m\u001b[0m\n",
            "\u001b[0;32m/usr/local/lib/python3.10/dist-packages/pandas/io/parsers/readers.py\u001b[0m in \u001b[0;36m_read\u001b[0;34m(filepath_or_buffer, kwds)\u001b[0m\n\u001b[1;32m    603\u001b[0m \u001b[0;34m\u001b[0m\u001b[0m\n\u001b[1;32m    604\u001b[0m     \u001b[0;31m# Create the parser.\u001b[0m\u001b[0;34m\u001b[0m\u001b[0;34m\u001b[0m\u001b[0m\n\u001b[0;32m--> 605\u001b[0;31m     \u001b[0mparser\u001b[0m \u001b[0;34m=\u001b[0m \u001b[0mTextFileReader\u001b[0m\u001b[0;34m(\u001b[0m\u001b[0mfilepath_or_buffer\u001b[0m\u001b[0;34m,\u001b[0m \u001b[0;34m**\u001b[0m\u001b[0mkwds\u001b[0m\u001b[0;34m)\u001b[0m\u001b[0;34m\u001b[0m\u001b[0;34m\u001b[0m\u001b[0m\n\u001b[0m\u001b[1;32m    606\u001b[0m \u001b[0;34m\u001b[0m\u001b[0m\n\u001b[1;32m    607\u001b[0m     \u001b[0;32mif\u001b[0m \u001b[0mchunksize\u001b[0m \u001b[0;32mor\u001b[0m \u001b[0miterator\u001b[0m\u001b[0;34m:\u001b[0m\u001b[0;34m\u001b[0m\u001b[0;34m\u001b[0m\u001b[0m\n",
            "\u001b[0;32m/usr/local/lib/python3.10/dist-packages/pandas/io/parsers/readers.py\u001b[0m in \u001b[0;36m__init__\u001b[0;34m(self, f, engine, **kwds)\u001b[0m\n\u001b[1;32m   1440\u001b[0m \u001b[0;34m\u001b[0m\u001b[0m\n\u001b[1;32m   1441\u001b[0m         \u001b[0mself\u001b[0m\u001b[0;34m.\u001b[0m\u001b[0mhandles\u001b[0m\u001b[0;34m:\u001b[0m \u001b[0mIOHandles\u001b[0m \u001b[0;34m|\u001b[0m \u001b[0;32mNone\u001b[0m \u001b[0;34m=\u001b[0m \u001b[0;32mNone\u001b[0m\u001b[0;34m\u001b[0m\u001b[0;34m\u001b[0m\u001b[0m\n\u001b[0;32m-> 1442\u001b[0;31m         \u001b[0mself\u001b[0m\u001b[0;34m.\u001b[0m\u001b[0m_engine\u001b[0m \u001b[0;34m=\u001b[0m \u001b[0mself\u001b[0m\u001b[0;34m.\u001b[0m\u001b[0m_make_engine\u001b[0m\u001b[0;34m(\u001b[0m\u001b[0mf\u001b[0m\u001b[0;34m,\u001b[0m \u001b[0mself\u001b[0m\u001b[0;34m.\u001b[0m\u001b[0mengine\u001b[0m\u001b[0;34m)\u001b[0m\u001b[0;34m\u001b[0m\u001b[0;34m\u001b[0m\u001b[0m\n\u001b[0m\u001b[1;32m   1443\u001b[0m \u001b[0;34m\u001b[0m\u001b[0m\n\u001b[1;32m   1444\u001b[0m     \u001b[0;32mdef\u001b[0m \u001b[0mclose\u001b[0m\u001b[0;34m(\u001b[0m\u001b[0mself\u001b[0m\u001b[0;34m)\u001b[0m \u001b[0;34m->\u001b[0m \u001b[0;32mNone\u001b[0m\u001b[0;34m:\u001b[0m\u001b[0;34m\u001b[0m\u001b[0;34m\u001b[0m\u001b[0m\n",
            "\u001b[0;32m/usr/local/lib/python3.10/dist-packages/pandas/io/parsers/readers.py\u001b[0m in \u001b[0;36m_make_engine\u001b[0;34m(self, f, engine)\u001b[0m\n\u001b[1;32m   1733\u001b[0m                 \u001b[0;32mif\u001b[0m \u001b[0;34m\"b\"\u001b[0m \u001b[0;32mnot\u001b[0m \u001b[0;32min\u001b[0m \u001b[0mmode\u001b[0m\u001b[0;34m:\u001b[0m\u001b[0;34m\u001b[0m\u001b[0;34m\u001b[0m\u001b[0m\n\u001b[1;32m   1734\u001b[0m                     \u001b[0mmode\u001b[0m \u001b[0;34m+=\u001b[0m \u001b[0;34m\"b\"\u001b[0m\u001b[0;34m\u001b[0m\u001b[0;34m\u001b[0m\u001b[0m\n\u001b[0;32m-> 1735\u001b[0;31m             self.handles = get_handle(\n\u001b[0m\u001b[1;32m   1736\u001b[0m                 \u001b[0mf\u001b[0m\u001b[0;34m,\u001b[0m\u001b[0;34m\u001b[0m\u001b[0;34m\u001b[0m\u001b[0m\n\u001b[1;32m   1737\u001b[0m                 \u001b[0mmode\u001b[0m\u001b[0;34m,\u001b[0m\u001b[0;34m\u001b[0m\u001b[0;34m\u001b[0m\u001b[0m\n",
            "\u001b[0;32m/usr/local/lib/python3.10/dist-packages/pandas/io/common.py\u001b[0m in \u001b[0;36mget_handle\u001b[0;34m(path_or_buf, mode, encoding, compression, memory_map, is_text, errors, storage_options)\u001b[0m\n\u001b[1;32m    854\u001b[0m         \u001b[0;32mif\u001b[0m \u001b[0mioargs\u001b[0m\u001b[0;34m.\u001b[0m\u001b[0mencoding\u001b[0m \u001b[0;32mand\u001b[0m \u001b[0;34m\"b\"\u001b[0m \u001b[0;32mnot\u001b[0m \u001b[0;32min\u001b[0m \u001b[0mioargs\u001b[0m\u001b[0;34m.\u001b[0m\u001b[0mmode\u001b[0m\u001b[0;34m:\u001b[0m\u001b[0;34m\u001b[0m\u001b[0;34m\u001b[0m\u001b[0m\n\u001b[1;32m    855\u001b[0m             \u001b[0;31m# Encoding\u001b[0m\u001b[0;34m\u001b[0m\u001b[0;34m\u001b[0m\u001b[0m\n\u001b[0;32m--> 856\u001b[0;31m             handle = open(\n\u001b[0m\u001b[1;32m    857\u001b[0m                 \u001b[0mhandle\u001b[0m\u001b[0;34m,\u001b[0m\u001b[0;34m\u001b[0m\u001b[0;34m\u001b[0m\u001b[0m\n\u001b[1;32m    858\u001b[0m                 \u001b[0mioargs\u001b[0m\u001b[0;34m.\u001b[0m\u001b[0mmode\u001b[0m\u001b[0;34m,\u001b[0m\u001b[0;34m\u001b[0m\u001b[0;34m\u001b[0m\u001b[0m\n",
            "\u001b[0;31mFileNotFoundError\u001b[0m: [Errno 2] No such file or directory: 'covid.csv'"
          ]
        }
      ],
      "source": [
        "df=pd.read_csv('covid.csv')"
      ]
    },
    {
      "cell_type": "code",
      "execution_count": null,
      "id": "20ea0fa8",
      "metadata": {
        "id": "20ea0fa8"
      },
      "outputs": [],
      "source": [
        "df.head()"
      ]
    },
    {
      "cell_type": "code",
      "execution_count": null,
      "id": "c2c533a4",
      "metadata": {
        "id": "c2c533a4"
      },
      "outputs": [],
      "source": [
        "df.rename(columns={'Date':'date','Lat':'lat','Province/State':'state'},inplace=True)"
      ]
    },
    {
      "cell_type": "code",
      "execution_count": null,
      "id": "e603d666",
      "metadata": {
        "id": "e603d666"
      },
      "outputs": [],
      "source": [
        "df.head()"
      ]
    },
    {
      "cell_type": "code",
      "execution_count": null,
      "id": "85ab79e1",
      "metadata": {
        "id": "85ab79e1"
      },
      "outputs": [],
      "source": [
        "#records from last date\n",
        "top=df[df['date']==df['date'].max()].reset_index()"
      ]
    },
    {
      "cell_type": "code",
      "execution_count": null,
      "id": "bcb1295b",
      "metadata": {
        "id": "bcb1295b"
      },
      "outputs": [],
      "source": [
        "world=top.groupby(by='Country/Region')['Confirmed','Deaths','Recovered','Active'].sum().reset_index()\n",
        "world"
      ]
    },
    {
      "cell_type": "code",
      "execution_count": null,
      "id": "b2c5044b",
      "metadata": {
        "id": "b2c5044b"
      },
      "outputs": [],
      "source": [
        "world.sort_values(['Active','Deaths'],ascending=False)[:5]"
      ]
    },
    {
      "cell_type": "code",
      "execution_count": null,
      "id": "3ea46a6e",
      "metadata": {
        "id": "3ea46a6e"
      },
      "outputs": [],
      "source": [
        "import plotly\n",
        "import plotly.express as px"
      ]
    },
    {
      "cell_type": "code",
      "execution_count": null,
      "id": "087cd24a",
      "metadata": {
        "id": "087cd24a"
      },
      "outputs": [],
      "source": [
        "figure=px.choropleth(world,locations='Country/Region',locationmode='country names',color='Recovered',hover_name='Country/Region',range_color=[1,12000])\n",
        "figure.show()"
      ]
    },
    {
      "cell_type": "code",
      "execution_count": null,
      "id": "89c032c6",
      "metadata": {
        "id": "89c032c6"
      },
      "outputs": [],
      "source": [
        "total_cases=df.groupby(by='date')['Confirmed','Active'].sum().reset_index()"
      ]
    },
    {
      "cell_type": "code",
      "execution_count": null,
      "id": "28531ef7",
      "metadata": {
        "id": "28531ef7"
      },
      "outputs": [],
      "source": [
        "total_cases"
      ]
    },
    {
      "cell_type": "code",
      "execution_count": null,
      "id": "ca28793d",
      "metadata": {
        "id": "ca28793d"
      },
      "outputs": [],
      "source": [
        "total_cases['date']=pd.to_datetime(total_cases['date'])"
      ]
    },
    {
      "cell_type": "code",
      "execution_count": null,
      "id": "97852f31",
      "metadata": {
        "id": "97852f31"
      },
      "outputs": [],
      "source": [
        "total_cases.info()\n"
      ]
    },
    {
      "cell_type": "code",
      "execution_count": null,
      "id": "5e6d0328",
      "metadata": {
        "id": "5e6d0328"
      },
      "outputs": [],
      "source": [
        "import seaborn as sns\n",
        "plt.figure(figsize=(40,10))\n",
        "ax=sns.pointplot(x=total_cases.date.dt.date,y=total_cases['Confirmed'])\n",
        "ax.set(xlabel='date',ylabel='confirmed')\n",
        "plt.xticks(rotation=90)\n",
        "plt.show()\n",
        "\n"
      ]
    },
    {
      "cell_type": "code",
      "execution_count": null,
      "id": "754f719a",
      "metadata": {
        "id": "754f719a"
      },
      "outputs": [],
      "source": [
        "top_actives=top.groupby(by='Country/Region')['Active'].sum().sort_values(ascending=False)[:20].reset_index()"
      ]
    },
    {
      "cell_type": "code",
      "execution_count": null,
      "id": "7c103b30",
      "metadata": {
        "id": "7c103b30"
      },
      "outputs": [],
      "source": [
        "top_actives"
      ]
    },
    {
      "cell_type": "code",
      "execution_count": null,
      "id": "1261ea89",
      "metadata": {
        "id": "1261ea89"
      },
      "outputs": [],
      "source": [
        "plt.figure(figsize=(10,5))\n",
        "ax=sns.barplot(x=top_actives.Active,y=top_actives['Country/Region'])\n",
        "ax.set(xlabel='Active_cases',ylabel='Country')"
      ]
    },
    {
      "cell_type": "code",
      "execution_count": null,
      "id": "6afa14e7",
      "metadata": {
        "id": "6afa14e7"
      },
      "outputs": [],
      "source": [
        "top_recovered=top.groupby('Country/Region')['Recovered'].sum().sort_values(ascending=False)[:20].reset_index()"
      ]
    },
    {
      "cell_type": "code",
      "execution_count": null,
      "id": "b8e345c3",
      "metadata": {
        "id": "b8e345c3"
      },
      "outputs": [],
      "source": [
        "plt.figure(figsize=(10,5))\n",
        "ax=sns.barplot(x=top_recovered.Recovered,y=top_recovered['Country/Region'])\n",
        "ax.set(xlabel='Total_Recovered',ylabel='Country')"
      ]
    },
    {
      "cell_type": "code",
      "execution_count": null,
      "id": "37216635",
      "metadata": {
        "id": "37216635"
      },
      "outputs": [],
      "source": [
        "top_recovered=top.groupby('Country/Region')['Recovered'].sum().sort_values(ascending=False)[:20].reset_index()"
      ]
    },
    {
      "cell_type": "code",
      "execution_count": null,
      "id": "5e5426c9",
      "metadata": {
        "id": "5e5426c9"
      },
      "outputs": [],
      "source": [
        "highest_deaths=top.groupby('Country/Region')['Deaths'].sum().sort_values(ascending=False)[:20].reset_index()"
      ]
    },
    {
      "cell_type": "code",
      "execution_count": null,
      "id": "1a68553f",
      "metadata": {
        "id": "1a68553f"
      },
      "outputs": [],
      "source": [
        "plt.figure(figsize=(10,5))\n",
        "ax=sns.barplot(x=highest_deaths.Deaths,y=highest_deaths['Country/Region'])\n",
        "ax.set(xlabel='Total_deaths',ylabel='Country')"
      ]
    },
    {
      "cell_type": "code",
      "execution_count": null,
      "id": "c6cf0e73",
      "metadata": {
        "id": "c6cf0e73"
      },
      "outputs": [],
      "source": [
        "top_confirmed=top.groupby('Country/Region')['Confirmed'].sum().sort_values(ascending=False)[:20].reset_index()"
      ]
    },
    {
      "cell_type": "code",
      "execution_count": null,
      "id": "5e7e9046",
      "metadata": {
        "id": "5e7e9046"
      },
      "outputs": [],
      "source": [
        "plt.figure(figsize=(10,5))\n",
        "ax=sns.barplot(x=top_confirmed.Confirmed,y=top_confirmed['Country/Region'])\n",
        "ax.set(xlabel='Total_ConfirmedCases',ylabel='Country')"
      ]
    },
    {
      "cell_type": "code",
      "execution_count": null,
      "id": "b2ec40d7",
      "metadata": {
        "id": "b2ec40d7"
      },
      "outputs": [],
      "source": [
        "india=df[df['Country/Region']=='India']"
      ]
    },
    {
      "cell_type": "code",
      "execution_count": null,
      "id": "d6300d13",
      "metadata": {
        "id": "d6300d13"
      },
      "outputs": [],
      "source": [
        "india=india.groupby('date')['Active','Recovered','Deaths','Confirmed'].sum().reset_index()\n"
      ]
    },
    {
      "cell_type": "code",
      "execution_count": null,
      "id": "bbcefb6d",
      "metadata": {
        "id": "bbcefb6d"
      },
      "outputs": [],
      "source": [
        "china=df[df['Country/Region']=='China']\n",
        "china=china.groupby('date')['Active','Recovered','Deaths','Confirmed'].sum().reset_index()"
      ]
    },
    {
      "cell_type": "code",
      "execution_count": null,
      "id": "ad1b67e2",
      "metadata": {
        "id": "ad1b67e2"
      },
      "outputs": [],
      "source": [
        "us=df[df['Country/Region']=='US']\n",
        "us=us.groupby('date')['Active','Recovered','Deaths','Confirmed'].sum().reset_index()"
      ]
    },
    {
      "cell_type": "code",
      "execution_count": null,
      "id": "08f66ae3",
      "metadata": {
        "id": "08f66ae3"
      },
      "outputs": [],
      "source": [
        "india"
      ]
    },
    {
      "cell_type": "code",
      "execution_count": null,
      "id": "101db19d",
      "metadata": {
        "id": "101db19d"
      },
      "outputs": [],
      "source": [
        "#Confirned cases trend\n",
        "plt.figure(figsize=(40,10))\n",
        "sns.pointplot(x=india.index,y=india.Confirmed,color='green')\n",
        "sns.pointplot(x=china.index,y=china.Confirmed,color='blue')\n",
        "sns.pointplot(x=us.index,y=us.Confirmed,color='yellow')\n",
        "ax.set(xlabel='No of days',ylabel='Confirmed')\n",
        "\n",
        "plt.xticks(rotation=90)\n",
        "plt.show()"
      ]
    },
    {
      "cell_type": "code",
      "execution_count": null,
      "id": "d84b2590",
      "metadata": {
        "id": "d84b2590"
      },
      "outputs": [],
      "source": [
        "#Model building using Facebook Prophet Library\n",
        "from prophet import Prophet"
      ]
    },
    {
      "cell_type": "code",
      "execution_count": null,
      "id": "f5347b80",
      "metadata": {
        "id": "f5347b80"
      },
      "outputs": [],
      "source": [
        "data=pd.read_csv('covid.csv',parse_dates=['Date'])"
      ]
    },
    {
      "cell_type": "code",
      "execution_count": null,
      "id": "5b21d64c",
      "metadata": {
        "id": "5b21d64c"
      },
      "outputs": [],
      "source": [
        "data['Active'].sum()"
      ]
    },
    {
      "cell_type": "code",
      "source": [
        "confirmed_d=data.groupby('Date')['Confirmed'].sum().reset_index()"
      ],
      "metadata": {
        "id": "djzlGb_iDe-H"
      },
      "id": "djzlGb_iDe-H",
      "execution_count": null,
      "outputs": []
    },
    {
      "cell_type": "code",
      "source": [
        "confirmed_d.columns=['ds','y']\n",
        "confirmed_d['ds']=pd.to_datetime(confirmed_d['ds'])\n",
        "confirmed_d.tail()"
      ],
      "metadata": {
        "id": "tuvaoTaPFUbR"
      },
      "id": "tuvaoTaPFUbR",
      "execution_count": null,
      "outputs": []
    },
    {
      "cell_type": "code",
      "source": [
        "deaths_d=data.groupby('Date')['Deaths'].sum().reset_index()\n",
        "deaths_d.columns=['ds','y']\n",
        "deaths_d['ds']=pd.to_datetime(deaths_d['ds'])\n",
        "deaths_d.tail()\n"
      ],
      "metadata": {
        "id": "VWbq9v5TFpPC"
      },
      "id": "VWbq9v5TFpPC",
      "execution_count": null,
      "outputs": []
    },
    {
      "cell_type": "code",
      "source": [
        "m=Prophet()\n",
        "m.fit(deaths_d)"
      ],
      "metadata": {
        "id": "VBUa4pgcF_gR"
      },
      "id": "VBUa4pgcF_gR",
      "execution_count": null,
      "outputs": []
    },
    {
      "cell_type": "code",
      "source": [
        "future=m.make_future_dataframe(periods=7)\n",
        "future.tail()"
      ],
      "metadata": {
        "id": "0M2THrxBIIL9"
      },
      "id": "0M2THrxBIIL9",
      "execution_count": null,
      "outputs": []
    },
    {
      "cell_type": "code",
      "source": [
        "forecast=m.predict(future)\n",
        "forecast[['ds','yhat','yhat_lower','yhat_upper']].tail()"
      ],
      "metadata": {
        "id": "dzlh8hP2ImV0"
      },
      "id": "dzlh8hP2ImV0",
      "execution_count": null,
      "outputs": []
    },
    {
      "cell_type": "code",
      "source": [
        "death_plot=m.plot(forecast)"
      ],
      "metadata": {
        "id": "3O06l32hJXor"
      },
      "id": "3O06l32hJXor",
      "execution_count": null,
      "outputs": []
    },
    {
      "cell_type": "code",
      "source": [
        "k=Prophet()\n",
        "k.fit(confirmed_d)\n",
        "future_confirmed=k.make_future_dataframe(periods=7)"
      ],
      "metadata": {
        "id": "FVrdZlPYJwrG"
      },
      "id": "FVrdZlPYJwrG",
      "execution_count": null,
      "outputs": []
    },
    {
      "cell_type": "code",
      "source": [
        "\n",
        "forecast_confirmed=k.predict(future_confirmed)\n",
        "confirmed_plot=k.plot(forecast_confirmed)"
      ],
      "metadata": {
        "id": "XYofkVbsKIbj"
      },
      "id": "XYofkVbsKIbj",
      "execution_count": null,
      "outputs": []
    },
    {
      "cell_type": "code",
      "source": [
        "forecast_confirmed[['ds','yhat','yhat_lower','yhat_upper']].tail()"
      ],
      "metadata": {
        "id": "MAF7ZXZHK0Xr"
      },
      "id": "MAF7ZXZHK0Xr",
      "execution_count": null,
      "outputs": []
    },
    {
      "cell_type": "code",
      "source": [
        "confirmed_d.tail()"
      ],
      "metadata": {
        "id": "zGCziCZeKLb8"
      },
      "id": "zGCziCZeKLb8",
      "execution_count": null,
      "outputs": []
    },
    {
      "cell_type": "code",
      "source": [],
      "metadata": {
        "id": "KtQ73wCjLSJT"
      },
      "id": "KtQ73wCjLSJT",
      "execution_count": null,
      "outputs": []
    }
  ],
  "metadata": {
    "kernelspec": {
      "display_name": "Python 3 (ipykernel)",
      "language": "python",
      "name": "python3"
    },
    "language_info": {
      "codemirror_mode": {
        "name": "ipython",
        "version": 3
      },
      "file_extension": ".py",
      "mimetype": "text/x-python",
      "name": "python",
      "nbconvert_exporter": "python",
      "pygments_lexer": "ipython3",
      "version": "3.10.9"
    },
    "colab": {
      "provenance": []
    }
  },
  "nbformat": 4,
  "nbformat_minor": 5
}